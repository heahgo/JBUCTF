{
 "cells": [
  {
   "cell_type": "markdown",
   "metadata": {},
   "source": [
    "#Exploit"
   ]
  },
  {
   "cell_type": "code",
   "execution_count": 11,
   "metadata": {
    "vscode": {
     "languageId": "plaintext"
    }
   },
   "outputs": [
    {
     "name": "stdout",
     "output_type": "stream",
     "text": [
      "3cac470847bab6e46aa922ae29c4b9ae "
     ]
    }
   ],
   "source": [
    "# SageMath version 10.0\n",
    "#\n",
    "# Installation Guide : https://doc.sagemath.org/html/en/installation/index.html\n",
    "# sage -n jupyter\n",
    "\n",
    "def pad(x):\n",
    "    return x + '00' * ((16-(len(x)//2)%16)%16)\n",
    "\n",
    "def length(A, C):\n",
    "    return ( int((len(A)//2)*8).to_bytes(8, byteorder='big') + int(len(C)//2 * 8).to_bytes(8, byteorder='big') ).hex().zfill(32)\n",
    "\n",
    "def hex2poly(hexx, x):\n",
    "    poly = 0\n",
    "    binary = bin(int(hexx, 16))[2:].zfill(128)\n",
    "    for i in range(len(binary)):\n",
    "        poly += int(binary[i]) * x^i\n",
    "    return poly\n",
    "\n",
    "F, a = GF(2^128, name=\"a\", modulus=x^128 + x^7 + x^2 + x + 1).objgen()\n",
    "H = PolynomialRing(F, name=\"H\").gen()\n",
    "\n",
    "# exploit1.py output\n",
    "#\n",
    "c1 = '8b1b7d975c95c0f8fc32edc90c93412792a02d0715f0061c0508b534'\n",
    "t1 = 'd0c06cda6138025c64eb04fb1c6b823a'\n",
    "c2 = '857a46a1a863c4016e0dca477bfc4305d8a344d39bd52dbf'\n",
    "t2 = '4ca901043469f1e3bd1bd817a2b0033b'\n",
    "c3 = '6fcd09f6e8a6ab5cef1b0e3c884093a4631f6c658f3a72f6f00ea4d629fca8a4850516892e'\n",
    "#\n",
    "# exploit1.py output\n",
    "\n",
    "A = ''# aad\n",
    "l1= length(A, c1)\n",
    "#l1 : [len(A)]_64 || [len(C1)]_64\n",
    "l2= length(A, c2)\n",
    "#l2 : [len(A)]_64 || [len(C2)]_64\n",
    "l3= length(A, c3)\n",
    "#l3 : [len(A)]_64 || [len(C3)]_64\n",
    "\n",
    "l1 = hex2poly(l1, a)\n",
    "l2 = hex2poly(l2, a)\n",
    "l3 = hex2poly(l3, a)\n",
    "\n",
    "c1 = pad(c1)\n",
    "c2 = pad(c2)\n",
    "c3 = pad(c3)\n",
    "\n",
    "c1 = [c1[i:i+32] for i in range(0, len(c1), 32)]\n",
    "c2 = [c2[i:i+32] for i in range(0, len(c2), 32)]\n",
    "c3 = [c3[i:i+32] for i in range(0, len(c3), 32)] \n",
    "\n",
    "c1 = [hex2poly(c1[i], a) for i in range(0, len(c1))]\n",
    "c2 = [hex2poly(c2[i], a) for i in range(0, len(c2))]\n",
    "c3 = [hex2poly(c3[i], a) for i in range(0, len(c3))]\n",
    "\n",
    "t1 = hex2poly(t1, a)\n",
    "t2 = hex2poly(t2, a)\n",
    "\n",
    "ciph_j = (c1[0]*H^3) + (c1[1]*H^2) + (l1*H) + t1    # CIPH(j0)\n",
    "p = (c1[0] + c2[0])*H^3 + (c1[1] + c2[1])*H^2 + (l1 + l2)*H +(t1 + t2)\n",
    "t3 = (c3[0]*H^4) + (c3[1]*H^3) + (c3[2]*H^2) + (l3*H) + ciph_j\n",
    "\n",
    "tag_list = []\n",
    "for H, m in p.roots():\n",
    "    tag = t3(H)\n",
    "    tag = str(int(bin(tag.to_integer())[2:].zfill(128)[::-1], 2).to_bytes(16, byteorder='big').hex())\n",
    "    tag_list.append(tag)\n",
    "\n",
    "for tag in tag_list:\n",
    "    print(f'{tag}', end=' ') # exploit.py input\n"
   ]
  },
  {
   "cell_type": "code",
   "execution_count": null,
   "metadata": {},
   "outputs": [],
   "source": []
  }
 ],
 "metadata": {
  "kernelspec": {
   "display_name": "SageMath 10.0",
   "language": "sage",
   "name": "sagemath"
  },
  "language_info": {
   "codemirror_mode": {
    "name": "ipython",
    "version": 3
   },
   "file_extension": ".py",
   "mimetype": "text/x-python",
   "name": "python",
   "nbconvert_exporter": "python",
   "pygments_lexer": "ipython3",
   "version": "3.10.12"
  }
 },
 "nbformat": 4,
 "nbformat_minor": 2
}
